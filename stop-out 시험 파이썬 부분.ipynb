{
 "cells": [
  {
   "cell_type": "code",
   "execution_count": 1,
   "metadata": {},
   "outputs": [],
   "source": [
    "girlsday_members =['민아', '혜리', '유라', '소진']"
   ]
  },
  {
   "cell_type": "code",
   "execution_count": 33,
   "metadata": {},
   "outputs": [],
   "source": [
    "girlsday_info = '\\n-'.join(girlsday_members)"
   ]
  },
  {
   "cell_type": "code",
   "execution_count": 34,
   "metadata": {},
   "outputs": [
    {
     "name": "stdout",
     "output_type": "stream",
     "text": [
      "민아\n",
      "-혜리\n",
      "-유라\n",
      "-소진\n"
     ]
    }
   ],
   "source": [
    "print(girlsday_info)"
   ]
  },
  {
   "cell_type": "code",
   "execution_count": 4,
   "metadata": {},
   "outputs": [],
   "source": [
    "fruit_dict = {\n",
    "    'red':'apple',\n",
    "    'yellow':'banana',\n",
    "    'green':'melon',\n",
    "}"
   ]
  },
  {
   "cell_type": "code",
   "execution_count": 5,
   "metadata": {},
   "outputs": [
    {
     "name": "stdout",
     "output_type": "stream",
     "text": [
      "red : apple\n",
      "yellow : banana\n",
      "green : melon\n"
     ]
    }
   ],
   "source": [
    "for item in fruit_dict.items():\n",
    "    print(item[0], ':', item[1])"
   ]
  },
  {
   "cell_type": "code",
   "execution_count": 6,
   "metadata": {},
   "outputs": [
    {
     "name": "stdout",
     "output_type": "stream",
     "text": [
      "None\n"
     ]
    }
   ],
   "source": [
    "print(fruit_dict.get(all))"
   ]
  },
  {
   "cell_type": "markdown",
   "metadata": {},
   "source": [
    "3. list의 `copy()`메서드가 하는 일과, `copy()`를 사용하지 않았을 때 발생할 수 있는 오류에 대한 예제 코드를 작성하시오. \n",
    "\n",
    "list에서 copy()메서드가 하는일은 메모리를 더 할당시켜 복사를 해주는 일이다. 예를 들어 v = [1, 2, 3]이라는 리스트가 있을때 f = v 라고 해주면 똑같은 형태로 출력 된다. 하지만 이런식으로 복사를 하게되면 메모리 주소를 공유하게 되어 v의 값을 변경시키면 f의 값도 변경 됩니다. 하지만 copy()메서드를 사용하게 되면 메모리를 할당시켜 v값을 변경하여도 f의 값은 변하지 않고 기존 v의 값을 출력하게 됩니다. \n",
    "\n"
   ]
  },
  {
   "cell_type": "code",
   "execution_count": 7,
   "metadata": {},
   "outputs": [
    {
     "name": "stdout",
     "output_type": "stream",
     "text": [
      "[3, 7, 11, 15, 19, 23, 27]\n"
     ]
    }
   ],
   "source": [
    "result = []\n",
    "for i in range(3,31, 4):\n",
    "    if i +4:\n",
    "        result.append(i)\n",
    "print(result)"
   ]
  },
  {
   "cell_type": "markdown",
   "metadata": {},
   "source": [
    "5. dict형 객체인 `obj`가 있다고 할 때, `obj['key']`와 `obj.get('key')`의 차이를 서술하시오. \n",
    ".get을 사용하면 키의 값이 없을 경우 디폴트 값을 리턴한다. 디폴트 값이 없으면 무시한다."
   ]
  },
  {
   "cell_type": "markdown",
   "metadata": {},
   "source": [
    "6. 튜플 언패킹에 대해 서술하고, `pokemon_info` 객체를 순회할 때 튜플 언패킹을 사용하는 예제 코드를 작성하시오.\n",
    "\n",
    "튜플 언패킹:리스트와 튜플의 요소를 변수 여러 개에 할당 하는것을 튜플 언패킹 이라고 부른다."
   ]
  },
  {
   "cell_type": "code",
   "execution_count": 8,
   "metadata": {},
   "outputs": [
    {
     "name": "stdout",
     "output_type": "stream",
     "text": [
      "[('피카츄', '전기 타입'), ('파이리', '불 타입'), ('꼬부기', '물 타입'), ('이상해씨', '풀 타입')]\n"
     ]
    }
   ],
   "source": [
    "x = [('피카츄', '전기 타입'),\n",
    "      ('파이리', '불 타입'), \n",
    "      ('꼬부기', '물 타입'), \n",
    "      ('이상해씨', '풀 타입'),]\n",
    "pokemon_info = x\n",
    "print(pokemon_info)"
   ]
  },
  {
   "cell_type": "markdown",
   "metadata": {},
   "source": [
    "7. 함수에서 위치인자와 키워드인자의 차이점에 대해 서술하시오.\n",
    "\n",
    "위치인자: 우리가 눈에 함수에서 정의한 위치대로 대입을 해야한다. 순서대로 입력을 해야 정확한 값을 받을 수 있다.\n",
    "\n",
    "키워드 인자: 키워드 인자는 위치인자와 다르게 사용순서를 무시하고 입력 할 수 있다. \n",
    "위치 인자와 키워드 인자는 혼합해서 사용할 수 있지만 혼합해서 사용할 경우 반드시 위치인자 뒤에 키워드 인자가 와야한다."
   ]
  },
  {
   "cell_type": "markdown",
   "metadata": {},
   "source": [
    "8.클래스와 인스턴스의 다음 사항들에 대해 서술하시오.\n",
    "\n",
    "-클래스와 인스턴스의 차이점<br>\n",
    "클래스란 똑같은 작업을 반복할때 사용할 수 있는 설계도면 같은 것이다(붕어빵 틀) \n",
    "클래스에 의해서 만들어진 객체(붕어빵)를 인스턴스라고 한다. 인스턴스는 특정 객체가 어떤 클래스의 객체인지를 설명 할 때 사용한다. \n",
    "\n",
    "클래스의 생성자 함수 이름<br>\n",
    "__init__이라는 생성자가 있다고 정의 하자 이 생성자를 통해서 객체가 생성될 때 어떤 변수의 값을 세팅하는 등 여러가지 작업을 할 수 있다. 예를 들어 name이라는 인자가 있으면 name이라는 인자를 가지고 클래스 내부의 name이라는 변수값을 초기화 시키고 객체가 생성되는 것 을 알리고 이름을 출력해 준다.\n",
    "\n",
    "클래스의 생성자 함수가 호출되는 시점은?<br>\n",
    "name이라는 인자를 넘겨 받고 넘겨받은 인자를 가지고 self.name등의 값을 초기화 시킬때 호출 된다 \n",
    "\n",
    "인스턴스 메서드의 self매개변수의 의미<br>\n",
    "self는 현재의 인스턴스 객체를 가리키는 기능을 하는 매개변수이다."
   ]
  },
  {
   "cell_type": "markdown",
   "metadata": {},
   "source": [
    "9. property를 정의하는 방법에 대해 서술하시오. \n",
    "파이썬에서는 사용자가 속성에 직접 접근하는것을 막기 위해 getter또는 setter메서드 대신에 property를 사용한다. 파이썬에는 getter나 setter메서드가 없기 때문이다.\n",
    "<br>\n",
    "getter 를 만드는 방법에 대해 서술:\n",
    "외부로부터 바로 접근할 수 없는 속성에 접근하여 읽기 위해 getter를 사용한다.<br>\n",
    "setter 를 만드는 방법에 대해 서술: \n",
    "외부로부터 바로 접근할 수 없는 속성을 변경하기 위해 setter를 사용한다.\n",
    "기존 함수에 @property를 입력시켜 주고 새로 변경해줄 함수를 하나 더 만들어 주어야 한다. 새로만들 함수는 기존의 함수에 데커레이터(@)와 .setter를 붙여 주면 된다. 이렇게 만들어 주면 클래스 정의에 있는 코드만 수정하면 손쉽게 속성을 변경할 수 있다"
   ]
  },
  {
   "cell_type": "code",
   "execution_count": 9,
   "metadata": {},
   "outputs": [],
   "source": [
    "class User:\n",
    "    def __init__ (self, name, age, addr):\n",
    "        self.name = name\n",
    "        self.age = age\n",
    "        self.addr = addr\n",
    "    def show_info(self):\n",
    "        print('이름: {}, 나이: {}, 사는곳: {}' .format(self.name, self.age, self.addr))"
   ]
  },
  {
   "cell_type": "code",
   "execution_count": 10,
   "metadata": {},
   "outputs": [],
   "source": [
    "me = User('전상민', 26, '강남구 자곡동')"
   ]
  },
  {
   "cell_type": "code",
   "execution_count": 12,
   "metadata": {},
   "outputs": [
    {
     "name": "stdout",
     "output_type": "stream",
     "text": [
      "이름: 전상민, 나이: 26, 사는곳: 강남구 자곡동\n"
     ]
    }
   ],
   "source": [
    "me.show_info()"
   ]
  },
  {
   "cell_type": "code",
   "execution_count": 17,
   "metadata": {},
   "outputs": [
    {
     "ename": "ModuleNotFoundError",
     "evalue": "No module named 'bs4'",
     "output_type": "error",
     "traceback": [
      "\u001b[0;31m---------------------------------------------------------------------------\u001b[0m",
      "\u001b[0;31mModuleNotFoundError\u001b[0m                       Traceback (most recent call last)",
      "\u001b[0;32m<ipython-input-17-c1a401f5052f>\u001b[0m in \u001b[0;36m<module>\u001b[0;34m()\u001b[0m\n\u001b[1;32m      2\u001b[0m \u001b[0;32mimport\u001b[0m \u001b[0mre\u001b[0m\u001b[0;34m\u001b[0m\u001b[0m\n\u001b[1;32m      3\u001b[0m \u001b[0;32mfrom\u001b[0m \u001b[0murllib\u001b[0m \u001b[0;32mimport\u001b[0m \u001b[0mparse\u001b[0m\u001b[0;34m\u001b[0m\u001b[0m\n\u001b[0;32m----> 4\u001b[0;31m \u001b[0;32mfrom\u001b[0m \u001b[0mbs4\u001b[0m \u001b[0;32mimport\u001b[0m \u001b[0mBeautifulSoup\u001b[0m\u001b[0;34m\u001b[0m\u001b[0m\n\u001b[0m\u001b[1;32m      5\u001b[0m \u001b[0;32mimport\u001b[0m \u001b[0mrequests\u001b[0m\u001b[0;34m\u001b[0m\u001b[0m\n\u001b[1;32m      6\u001b[0m \u001b[0murl_webtoon_list\u001b[0m \u001b[0;34m=\u001b[0m \u001b[0;34m'http://www.leagueoflegends.co.kr/?m=news&cate=notice'\u001b[0m\u001b[0;34m\u001b[0m\u001b[0m\n",
      "\u001b[0;31mModuleNotFoundError\u001b[0m: No module named 'bs4'"
     ]
    }
   ],
   "source": [
    "import os\n",
    "import re\n",
    "from urllib import parse\n",
    "from bs4 import BeautifulSoup\n",
    "import requests\n",
    "url_webtoon_list = 'http://www.leagueoflegends.co.kr/?m=news&cate=notice'\n",
    "print('요청할 url', url_webtoon_list)\n",
    "\n",
    "file_path = 'data/info.html'\n",
    "if os.path.exists(file_path):\n",
    "    f = open('file_path', 'rt')\n",
    "    html = f.read()\n",
    "    f.close\n",
    "    print('-파일 읽기 완료')\n",
    "else:\n",
    "    print('-파일이 없음({})'.format(file_path))\n",
    "    response = requests.get(url_webtoon_list)\n",
    "    print('-requests로 요청 완료')\n",
    "    html = response.text\n",
    "    print('-파일 쓰기 시작')\n",
    "    f = open(file_path, 'wt')\n",
    "    f.write(html)\n",
    "    f.close()\n",
    "    print('-파일 쓰기 완료')"
   ]
  },
  {
   "cell_type": "markdown",
   "metadata": {},
   "source": [
    "13. runserver가 localhost:8000에서 입력을 받는 상태로 동작 중일 때, \n",
    "브라우저에서 `http://localhost:8000/abc/`URL을 입력하면 어떤 절차를\n",
    "거쳐 사용자에게 다시 화면을 보여주는지 서술하시오.\n",
    "<br>\n",
    "브라우저에서 사용자가 요청을 보내면 서버는 그요청을 처리해서 다시 사용자에게 원하는 페이지를 돌려주는 것 을 말한다. 즉 사용자가 url을 입력하면 웹사이트를 보여 달라고 요청을 보내는 것이다. 서버는 요청을 장고 애플리케이션에 보낸후 장고 애플리케이션의 답을 받아 다시 서버를 통해 사용자의 화면에 표시해 주는 것 이다."
   ]
  }
 ],
 "metadata": {
  "kernelspec": {
   "display_name": "Python 3",
   "language": "python",
   "name": "python3"
  },
  "language_info": {
   "codemirror_mode": {
    "name": "ipython",
    "version": 3
   },
   "file_extension": ".py",
   "mimetype": "text/x-python",
   "name": "python",
   "nbconvert_exporter": "python",
   "pygments_lexer": "ipython3",
   "version": "3.6.5"
  }
 },
 "nbformat": 4,
 "nbformat_minor": 2
}
